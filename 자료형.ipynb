{
 "cells": [
  {
   "cell_type": "code",
   "execution_count": 1,
   "id": "e1a7f366",
   "metadata": {
    "ExecuteTime": {
     "end_time": "2021-05-25T00:37:51.596799Z",
     "start_time": "2021-05-25T00:37:51.591804Z"
    }
   },
   "outputs": [],
   "source": [
    "a= True\n",
    "b= False"
   ]
  },
  {
   "cell_type": "code",
   "execution_count": 4,
   "id": "005a6b45",
   "metadata": {
    "ExecuteTime": {
     "end_time": "2021-05-25T00:39:03.644003Z",
     "start_time": "2021-05-25T00:39:03.640023Z"
    }
   },
   "outputs": [
    {
     "name": "stdout",
     "output_type": "stream",
     "text": [
      "<class 'bool'>\n"
     ]
    }
   ],
   "source": [
    "print(type(a))"
   ]
  },
  {
   "cell_type": "code",
   "execution_count": 5,
   "id": "0e5a4826",
   "metadata": {
    "ExecuteTime": {
     "end_time": "2021-05-25T00:39:30.765541Z",
     "start_time": "2021-05-25T00:39:30.752532Z"
    }
   },
   "outputs": [
    {
     "data": {
      "text/plain": [
       "True"
      ]
     },
     "execution_count": 5,
     "metadata": {},
     "output_type": "execute_result"
    }
   ],
   "source": [
    "1 == 1"
   ]
  },
  {
   "cell_type": "code",
   "execution_count": 6,
   "id": "b820f960",
   "metadata": {
    "ExecuteTime": {
     "end_time": "2021-05-25T00:40:16.762729Z",
     "start_time": "2021-05-25T00:40:16.757729Z"
    }
   },
   "outputs": [
    {
     "data": {
      "text/plain": [
       "False"
      ]
     },
     "execution_count": 6,
     "metadata": {},
     "output_type": "execute_result"
    }
   ],
   "source": [
    "2<1"
   ]
  },
  {
   "cell_type": "code",
   "execution_count": 10,
   "id": "7f43f922",
   "metadata": {
    "ExecuteTime": {
     "end_time": "2021-05-25T00:42:15.054150Z",
     "start_time": "2021-05-25T00:42:15.049168Z"
    }
   },
   "outputs": [
    {
     "data": {
      "text/plain": [
       "False"
      ]
     },
     "execution_count": 10,
     "metadata": {},
     "output_type": "execute_result"
    }
   ],
   "source": [
    "bool('')"
   ]
  },
  {
   "cell_type": "code",
   "execution_count": 23,
   "id": "8cb56ca9",
   "metadata": {
    "ExecuteTime": {
     "end_time": "2021-05-25T00:45:56.691416Z",
     "start_time": "2021-05-25T00:45:56.686416Z"
    }
   },
   "outputs": [
    {
     "data": {
      "text/plain": [
       "float"
      ]
     },
     "execution_count": 23,
     "metadata": {},
     "output_type": "execute_result"
    }
   ],
   "source": [
    "pi = 3.141592\n",
    "type(pi)"
   ]
  },
  {
   "cell_type": "code",
   "execution_count": 24,
   "id": "fe8fa617",
   "metadata": {
    "ExecuteTime": {
     "end_time": "2021-05-25T00:46:40.411756Z",
     "start_time": "2021-05-25T00:46:40.406757Z"
    }
   },
   "outputs": [
    {
     "data": {
      "text/plain": [
       "str"
      ]
     },
     "execution_count": 24,
     "metadata": {},
     "output_type": "execute_result"
    }
   ],
   "source": [
    "message = \"Good Morning\"\n",
    "type(message)"
   ]
  },
  {
   "cell_type": "code",
   "execution_count": 25,
   "id": "c3e219c0",
   "metadata": {
    "ExecuteTime": {
     "end_time": "2021-05-25T05:28:46.979518Z",
     "start_time": "2021-05-25T05:28:46.972525Z"
    }
   },
   "outputs": [
    {
     "name": "stdout",
     "output_type": "stream",
     "text": [
      "1\n",
      "1\n",
      "1\n",
      "1\n",
      "1\n",
      "1\n",
      "1\n",
      "1\n",
      "1\n",
      "1\n"
     ]
    }
   ],
   "source": [
    "for i in range(10) :\n",
    "    print(\"1\")\n",
    "    if i%2 == 0 :\n",
    "        continue\n",
    "        print(\"2\")\n",
    "    "
   ]
  },
  {
   "cell_type": "code",
   "execution_count": 27,
   "id": "1e57b637",
   "metadata": {
    "ExecuteTime": {
     "end_time": "2021-05-25T05:29:36.749572Z",
     "start_time": "2021-05-25T05:29:36.743559Z"
    }
   },
   "outputs": [
    {
     "data": {
      "text/plain": [
       "str"
      ]
     },
     "execution_count": 27,
     "metadata": {},
     "output_type": "execute_result"
    }
   ],
   "source": [
    "type(\"abc\")"
   ]
  },
  {
   "cell_type": "code",
   "execution_count": null,
   "id": "22ea9494",
   "metadata": {},
   "outputs": [],
   "source": []
  }
 ],
 "metadata": {
  "kernelspec": {
   "display_name": "Python 3",
   "language": "python",
   "name": "python3"
  },
  "language_info": {
   "codemirror_mode": {
    "name": "ipython",
    "version": 3
   },
   "file_extension": ".py",
   "mimetype": "text/x-python",
   "name": "python",
   "nbconvert_exporter": "python",
   "pygments_lexer": "ipython3",
   "version": "3.7.9"
  },
  "toc": {
   "base_numbering": 1,
   "nav_menu": {},
   "number_sections": true,
   "sideBar": true,
   "skip_h1_title": false,
   "title_cell": "Table of Contents",
   "title_sidebar": "Contents",
   "toc_cell": false,
   "toc_position": {},
   "toc_section_display": true,
   "toc_window_display": false
  },
  "varInspector": {
   "cols": {
    "lenName": 16,
    "lenType": 16,
    "lenVar": 40
   },
   "kernels_config": {
    "python": {
     "delete_cmd_postfix": "",
     "delete_cmd_prefix": "del ",
     "library": "var_list.py",
     "varRefreshCmd": "print(var_dic_list())"
    },
    "r": {
     "delete_cmd_postfix": ") ",
     "delete_cmd_prefix": "rm(",
     "library": "var_list.r",
     "varRefreshCmd": "cat(var_dic_list()) "
    }
   },
   "types_to_exclude": [
    "module",
    "function",
    "builtin_function_or_method",
    "instance",
    "_Feature"
   ],
   "window_display": false
  }
 },
 "nbformat": 4,
 "nbformat_minor": 5
}
